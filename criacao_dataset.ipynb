{
 "cells": [
  {
   "cell_type": "code",
   "execution_count": 1,
   "id": "a6edb6ae",
   "metadata": {},
   "outputs": [],
   "source": [
    "from bs4 import BeautifulSoup\n",
    "import subprocess\n",
    "import pandas as pd\n",
    "from funcs import tratamento_texto"
   ]
  },
  {
   "cell_type": "code",
   "execution_count": 2,
   "id": "b2afee01",
   "metadata": {},
   "outputs": [],
   "source": [
    "def extrair_eventos(ano_inicio, ano_fim):\n",
    "  data = []\n",
    "  for ano in range(ano_inicio, ano_fim+1):\n",
    "    if ano < 1492:\n",
    "      url = \"https://www.onthisday.com/date\"\n",
    "    else:\n",
    "      url = \"https://www.onthisday.com/events/date\"\n",
    "    for pagina in range(1, 6):\n",
    "      if pagina >= 2:\n",
    "        curl_command = [\"curl\", f\"{url}/{ano}?p={pagina}\"]\n",
    "      else:\n",
    "        curl_command = [\"curl\", f\"{url}/{ano}\"]\n",
    "      result = subprocess.run(curl_command, capture_output=True, text=True, encoding='utf-8')\n",
    "      soup = BeautifulSoup(result.stdout, 'html.parser')\n",
    "\n",
    "      try:\n",
    "        year = soup.find('span', class_='year').get_text()\n",
    "        highlights = soup.find_all('div', class_='section--highlight')\n",
    "        for h in highlights:\n",
    "          date = h.find('p').a.get_text()  \n",
    "          event = h.get_text().replace(date, '', 1).strip()\n",
    "          data.append({\"Year\": year, \"Date\": date, \"Event\": event})\n",
    "\n",
    "        article = soup.find('article')\n",
    "        event_list = article.find_all('li', class_=['event', 'person'])\n",
    "        for e in event_list:\n",
    "          date = None\n",
    "          if e.b:\n",
    "            date = e.b.get_text()  \n",
    "          for cls in ['date', 'deathDate', 'birthDate']:\n",
    "            tag = e.find('a', class_=cls)\n",
    "            if tag:\n",
    "              date = tag.get_text()\n",
    "          event = e.get_text().replace(date, '', 1).strip()\n",
    "          data.append({\"Year\": year, \"Date\": date, \"Event\": event})\n",
    "      except:\n",
    "        break\n",
    "  return data"
   ]
  },
  {
   "cell_type": "code",
   "execution_count": 3,
   "id": "d4c981dd",
   "metadata": {},
   "outputs": [],
   "source": [
    "df = pd.DataFrame(extrair_eventos(1, 2024))"
   ]
  },
  {
   "cell_type": "code",
   "execution_count": 4,
   "id": "3b6c412c",
   "metadata": {},
   "outputs": [
    {
     "data": {
      "text/html": [
       "<div>\n",
       "<style scoped>\n",
       "    .dataframe tbody tr th:only-of-type {\n",
       "        vertical-align: middle;\n",
       "    }\n",
       "\n",
       "    .dataframe tbody tr th {\n",
       "        vertical-align: top;\n",
       "    }\n",
       "\n",
       "    .dataframe thead th {\n",
       "        text-align: right;\n",
       "    }\n",
       "</style>\n",
       "<table border=\"1\" class=\"dataframe\">\n",
       "  <thead>\n",
       "    <tr style=\"text-align: right;\">\n",
       "      <th></th>\n",
       "      <th>Year</th>\n",
       "      <th>Date</th>\n",
       "      <th>Event</th>\n",
       "    </tr>\n",
       "  </thead>\n",
       "  <tbody>\n",
       "    <tr>\n",
       "      <th>0</th>\n",
       "      <td>1</td>\n",
       "      <td>Jan 1</td>\n",
       "      <td>Origin of the Christian Era</td>\n",
       "    </tr>\n",
       "    <tr>\n",
       "      <th>1</th>\n",
       "      <td>1</td>\n",
       "      <td>Mar 25</td>\n",
       "      <td>Origin of Dionysian Incarnation of the Word</td>\n",
       "    </tr>\n",
       "    <tr>\n",
       "      <th>2</th>\n",
       "      <td>1</td>\n",
       "      <td>Dec 25</td>\n",
       "      <td>The first Christmas according to calendar-make...</td>\n",
       "    </tr>\n",
       "    <tr>\n",
       "      <th>3</th>\n",
       "      <td>2</td>\n",
       "      <td>Aug 20</td>\n",
       "      <td>Venus and Jupiter in conjunction - possible as...</td>\n",
       "    </tr>\n",
       "    <tr>\n",
       "      <th>4</th>\n",
       "      <td>3</td>\n",
       "      <td>Aug 12</td>\n",
       "      <td>Venus-Jupiter in conjunction-Star of Bethlehem</td>\n",
       "    </tr>\n",
       "    <tr>\n",
       "      <th>...</th>\n",
       "      <td>...</td>\n",
       "      <td>...</td>\n",
       "      <td>...</td>\n",
       "    </tr>\n",
       "    <tr>\n",
       "      <th>77992</th>\n",
       "      <td>2024</td>\n",
       "      <td>Dec 24</td>\n",
       "      <td>NASA's Parker Solar probe makes a record-break...</td>\n",
       "    </tr>\n",
       "    <tr>\n",
       "      <th>77993</th>\n",
       "      <td>2024</td>\n",
       "      <td>Dec 24</td>\n",
       "      <td>Pope Francis opens the Holy Door of St Peter's...</td>\n",
       "    </tr>\n",
       "    <tr>\n",
       "      <th>77994</th>\n",
       "      <td>2024</td>\n",
       "      <td>Dec 25</td>\n",
       "      <td>Azerbaijani airliner crashes near Kazakhstani ...</td>\n",
       "    </tr>\n",
       "    <tr>\n",
       "      <th>77995</th>\n",
       "      <td>2024</td>\n",
       "      <td>Dec 29</td>\n",
       "      <td>South Korean Jeju Air plane crashes and explod...</td>\n",
       "    </tr>\n",
       "    <tr>\n",
       "      <th>77996</th>\n",
       "      <td>2024</td>\n",
       "      <td>Dec 31</td>\n",
       "      <td>Trinidad and Tobago declare a state of emergen...</td>\n",
       "    </tr>\n",
       "  </tbody>\n",
       "</table>\n",
       "<p>77997 rows × 3 columns</p>\n",
       "</div>"
      ],
      "text/plain": [
       "       Year    Date                                              Event\n",
       "0         1   Jan 1                        Origin of the Christian Era\n",
       "1         1  Mar 25        Origin of Dionysian Incarnation of the Word\n",
       "2         1  Dec 25  The first Christmas according to calendar-make...\n",
       "3         2  Aug 20  Venus and Jupiter in conjunction - possible as...\n",
       "4         3  Aug 12     Venus-Jupiter in conjunction-Star of Bethlehem\n",
       "...     ...     ...                                                ...\n",
       "77992  2024  Dec 24  NASA's Parker Solar probe makes a record-break...\n",
       "77993  2024  Dec 24  Pope Francis opens the Holy Door of St Peter's...\n",
       "77994  2024  Dec 25  Azerbaijani airliner crashes near Kazakhstani ...\n",
       "77995  2024  Dec 29  South Korean Jeju Air plane crashes and explod...\n",
       "77996  2024  Dec 31  Trinidad and Tobago declare a state of emergen...\n",
       "\n",
       "[77997 rows x 3 columns]"
      ]
     },
     "execution_count": 4,
     "metadata": {},
     "output_type": "execute_result"
    }
   ],
   "source": [
    "df"
   ]
  },
  {
   "cell_type": "code",
   "execution_count": null,
   "id": "92ca29c7",
   "metadata": {},
   "outputs": [],
   "source": [
    "coluna_texto = \"Event\""
   ]
  },
  {
   "cell_type": "code",
   "execution_count": null,
   "id": "53cb2c6b",
   "metadata": {},
   "outputs": [],
   "source": [
    "df[\"texto_tratado\"] = df[coluna_texto].apply(tratamento_texto)"
   ]
  },
  {
   "cell_type": "code",
   "execution_count": null,
   "id": "6bd5269d",
   "metadata": {},
   "outputs": [],
   "source": [
    "df"
   ]
  },
  {
   "cell_type": "code",
   "execution_count": 6,
   "id": "3a067ce9",
   "metadata": {},
   "outputs": [],
   "source": [
    "df.to_csv(\"dataset/events.csv\", sep=\";\", index=False)"
   ]
  }
 ],
 "metadata": {
  "kernelspec": {
   "display_name": "Python 3",
   "language": "python",
   "name": "python3"
  },
  "language_info": {
   "codemirror_mode": {
    "name": "ipython",
    "version": 3
   },
   "file_extension": ".py",
   "mimetype": "text/x-python",
   "name": "python",
   "nbconvert_exporter": "python",
   "pygments_lexer": "ipython3",
   "version": "3.12.3"
  }
 },
 "nbformat": 4,
 "nbformat_minor": 5
}
