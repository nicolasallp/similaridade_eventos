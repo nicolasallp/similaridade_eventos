{
 "cells": [
  {
   "cell_type": "code",
   "execution_count": null,
   "id": "a6edb6ae",
   "metadata": {},
   "outputs": [],
   "source": [
    "from bs4 import BeautifulSoup\n",
    "import subprocess\n",
    "import pandas as pd\n",
    "from funcs import tratamento_texto"
   ]
  },
  {
   "cell_type": "code",
   "execution_count": null,
   "id": "b2afee01",
   "metadata": {},
   "outputs": [],
   "source": [
    "def extrair_eventos(ano_inicio, ano_fim):\n",
    "  data = []\n",
    "  for ano in range(ano_inicio, ano_fim+1):\n",
    "    if ano < 1492:\n",
    "      url = \"https://www.onthisday.com/date\"\n",
    "    else:\n",
    "      url = \"https://www.onthisday.com/events/date\"\n",
    "    for pagina in range(1, 6):\n",
    "      if pagina >= 2:\n",
    "        curl_command = [\"curl\", f\"{url}/{ano}?p={pagina}\"]\n",
    "      else:\n",
    "        curl_command = [\"curl\", f\"{url}/{ano}\"]\n",
    "      result = subprocess.run(curl_command, capture_output=True, text=True, encoding='utf-8')\n",
    "      soup = BeautifulSoup(result.stdout, 'html.parser')\n",
    "\n",
    "      try:\n",
    "        year = soup.find('span', class_='year').get_text()\n",
    "        highlights = soup.find_all('div', class_='section--highlight')\n",
    "        for h in highlights:\n",
    "          date = h.find('p').a.get_text()  \n",
    "          event = h.get_text().replace(date, '', 1).strip()\n",
    "          data.append({\"Year\": year, \"Date\": date, \"Event\": event})\n",
    "\n",
    "        article = soup.find('article')\n",
    "        event_list = article.find_all('li', class_=['event', 'person'])\n",
    "        for e in event_list:\n",
    "          date = None\n",
    "          if e.b:\n",
    "            date = e.b.get_text()  \n",
    "          for cls in ['date', 'deathDate', 'birthDate']:\n",
    "            tag = e.find('a', class_=cls)\n",
    "            if tag:\n",
    "              date = tag.get_text()\n",
    "          event = e.get_text().replace(date, '', 1).strip()\n",
    "          data.append({\"Year\": year, \"Date\": date, \"Event\": event})\n",
    "      except:\n",
    "        break\n",
    "  return data"
   ]
  },
  {
   "cell_type": "code",
   "execution_count": null,
   "id": "d4c981dd",
   "metadata": {},
   "outputs": [],
   "source": [
    "df = pd.DataFrame(extrair_eventos(1, 2024))"
   ]
  },
  {
   "cell_type": "code",
   "execution_count": null,
   "id": "3b6c412c",
   "metadata": {},
   "outputs": [],
   "source": [
    "df"
   ]
  },
  {
   "cell_type": "code",
   "execution_count": null,
   "id": "92ca29c7",
   "metadata": {},
   "outputs": [],
   "source": [
    "coluna_texto = \"Event\""
   ]
  },
  {
   "cell_type": "code",
   "execution_count": null,
   "id": "53cb2c6b",
   "metadata": {},
   "outputs": [],
   "source": [
    "df[\"texto_tratado\"] = df[coluna_texto].apply(tratamento_texto)"
   ]
  },
  {
   "cell_type": "code",
   "execution_count": null,
   "id": "6bd5269d",
   "metadata": {},
   "outputs": [],
   "source": [
    "df"
   ]
  },
  {
   "cell_type": "code",
   "execution_count": null,
   "id": "3a067ce9",
   "metadata": {},
   "outputs": [],
   "source": [
    "df.to_csv(\"dataset/events.csv\", sep=\";\", index=False)"
   ]
  }
 ],
 "metadata": {
  "kernelspec": {
   "display_name": "Python 3",
   "language": "python",
   "name": "python3"
  },
  "language_info": {
   "codemirror_mode": {
    "name": "ipython",
    "version": 3
   },
   "file_extension": ".py",
   "mimetype": "text/x-python",
   "name": "python",
   "nbconvert_exporter": "python",
   "pygments_lexer": "ipython3",
   "version": "3.12.3"
  }
 },
 "nbformat": 4,
 "nbformat_minor": 5
}
